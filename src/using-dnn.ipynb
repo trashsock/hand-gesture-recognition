{
  "metadata": {
    "kernelspec": {
      "language": "python",
      "display_name": "Python 3",
      "name": "python3"
    },
    "language_info": {
      "name": "python",
      "version": "3.7.12",
      "mimetype": "text/x-python",
      "codemirror_mode": {
        "name": "ipython",
        "version": 3
      },
      "pygments_lexer": "ipython3",
      "nbconvert_exporter": "python",
      "file_extension": ".py"
    },
    "colab": {
      "name": "using-mobilenet.ipynb",
      "provenance": [],
      "collapsed_sections": []
    }
  },
  "nbformat_minor": 0,
  "nbformat": 4,
  "cells": [
    {
      "cell_type": "code",
      "source": [
        "#imports\n",
        "import tensorflow as tf \n",
        "from tensorflow import keras \n",
        "from sklearn.model_selection import train_test_split\n",
        "import matplotlib.pyplot as plt\n",
        "import matplotlib.image as img\n",
        "import seaborn as sns\n",
        "import PIL.Image as Image\n",
        "import cv2\n",
        "import os\n",
        "import numpy as np\n",
        "import pathlib"
      ],
      "metadata": {
        "_uuid": "8f2839f25d086af736a60e9eeb907d3b93b6e0e5",
        "_cell_guid": "b1076dfc-b9ad-4769-8c92-a6c4dae69d19",
        "execution": {
          "iopub.status.busy": "2022-05-28T10:10:06.428988Z",
          "iopub.execute_input": "2022-05-28T10:10:06.429976Z",
          "iopub.status.idle": "2022-05-28T10:10:13.528662Z",
          "shell.execute_reply.started": "2022-05-28T10:10:06.429858Z",
          "shell.execute_reply": "2022-05-28T10:10:13.527647Z"
        },
        "trusted": true,
        "id": "0SxOBZfgMGEi"
      },
      "execution_count": null,
      "outputs": []
    },
    {
      "cell_type": "code",
      "source": [
        "#initialising dataset path\n",
        "data_dir = '/kaggle/input/2000-hand-gestures/images' \n",
        "data_dir = pathlib.Path(data_dir)\n",
        "data_dir\n",
        "\n",
        "import os\n",
        "#print(os.path.abspath(\".\"))\n",
        "#print(os.path.abspath(r\"..\"))\n",
        "\n",
        "dir_list = os.listdir(\"/kaggle/input/2000-hand-gestures/images\")\n",
        "print(dir_list)"
      ],
      "metadata": {
        "execution": {
          "iopub.status.busy": "2022-05-28T10:10:13.530525Z",
          "iopub.execute_input": "2022-05-28T10:10:13.531184Z",
          "iopub.status.idle": "2022-05-28T10:10:13.541487Z",
          "shell.execute_reply.started": "2022-05-28T10:10:13.531147Z",
          "shell.execute_reply": "2022-05-28T10:10:13.540692Z"
        },
        "trusted": true,
        "id": "eOhAgEmHMGEl"
      },
      "execution_count": null,
      "outputs": []
    },
    {
      "cell_type": "code",
      "source": [
        "#listing classes\n",
        "import glob\n",
        "#closedFist = list(data_dir.glob('closed-fist/*'))[:600]\n",
        "closedFist = list(data_dir.glob('closedFist/*'))[:600]\n",
        "#print(closedFist)\n",
        "fingerCircles = list(data_dir.glob('fingerCircle/*'))[:600]\n",
        "fingerSymbols = list(data_dir.glob('fingerSymbols/*'))[:600]\n",
        "multiFingerBend = list(data_dir.glob('multiFingerBend/*'))[:600]\n",
        "openPalm = list(data_dir.glob('openPalm/*'))[:600]\n",
        "semiOpenFist = list(data_dir.glob('semiOpenFist/*'))[:600]\n",
        "semiOpenPalm = list(data_dir.glob('semiOpenPalm/*'))[:600]\n",
        "singleFingerBend = list(data_dir.glob('singleFingerBend/*'))[:600]"
      ],
      "metadata": {
        "execution": {
          "iopub.status.busy": "2022-05-28T10:10:13.542755Z",
          "iopub.execute_input": "2022-05-28T10:10:13.543309Z",
          "iopub.status.idle": "2022-05-28T10:10:13.711615Z",
          "shell.execute_reply.started": "2022-05-28T10:10:13.543271Z",
          "shell.execute_reply": "2022-05-28T10:10:13.710480Z"
        },
        "trusted": true,
        "id": "IMfOvykAMGEm"
      },
      "execution_count": null,
      "outputs": []
    },
    {
      "cell_type": "code",
      "source": [
        "#showing sample of images \n",
        "fig, ax = plt.subplots(ncols=8, figsize=(20,5))\n",
        "fig.suptitle('hand gesture classes')\n",
        "closedFistImg = img.imread(closedFist[0])\n",
        "fingerCirclesImg = img.imread(fingerCircles[0])\n",
        "fingerSymbolsImg = img.imread(fingerSymbols[0])\n",
        "multiFingerBendImg = img.imread(multiFingerBend[0])\n",
        "openPalmImg = img.imread(openPalm[0])\n",
        "semiOpenFistImg = img.imread(semiOpenFist[0])\n",
        "semiOpenPalmImg = img.imread(semiOpenPalm[0])\n",
        "singleFingerBendImg = img.imread(singleFingerBend[0])\n",
        "\n",
        "\n",
        "ax[0].set_title('closed fist')\n",
        "ax[1].set_title('finger circles')\n",
        "ax[2].set_title('finger symbols')\n",
        "ax[3].set_title('multi finger bend')\n",
        "ax[4].set_title('open palm')\n",
        "ax[5].set_title('semi open fist')\n",
        "ax[6].set_title('semi open palm')\n",
        "ax[7].set_title('single finger bend')\n",
        "\n",
        "ax[0].imshow(closedFistImg)\n",
        "ax[1].imshow(fingerCirclesImg)\n",
        "ax[2].imshow(fingerSymbolsImg)\n",
        "ax[3].imshow(multiFingerBendImg)\n",
        "ax[4].imshow(openPalmImg)\n",
        "ax[5].imshow(semiOpenFistImg)\n",
        "ax[6].imshow(semiOpenPalmImg)\n",
        "ax[7].imshow(singleFingerBendImg)\n",
        "\n",
        "plt.show()"
      ],
      "metadata": {
        "execution": {
          "iopub.status.busy": "2022-05-28T10:10:13.713023Z",
          "iopub.execute_input": "2022-05-28T10:10:13.713431Z",
          "iopub.status.idle": "2022-05-28T10:10:14.621078Z",
          "shell.execute_reply.started": "2022-05-28T10:10:13.713397Z",
          "shell.execute_reply": "2022-05-28T10:10:14.619838Z"
        },
        "trusted": true,
        "id": "SBo3dduDMGEn"
      },
      "execution_count": null,
      "outputs": []
    },
    {
      "cell_type": "code",
      "source": [
        "df_images = {\n",
        "    'open palm' : openPalm,\n",
        "    'closed fist' : closedFist,\n",
        "    'semi open palm' : semiOpenPalm,\n",
        "    'semi open fist' : semiOpenFist,\n",
        "    'finger circles': fingerCircles,\n",
        "    'single finger bend' : singleFingerBend,\n",
        "    'multi finger bend' : multiFingerBend,\n",
        "    'finger symbols': fingerSymbols\n",
        "}\n",
        "\n",
        "df_labels = {\n",
        "    'open palm' : 0,\n",
        "    'closed fist' : 1,\n",
        "    'semi open palm' : 2,\n",
        "    'semi open fist' : 3,\n",
        "    'finger circles': 4,\n",
        "    'single finger bend' : 5,\n",
        "    'multi finger bend' : 6,\n",
        "    'finger symbols': 7\n",
        "}"
      ],
      "metadata": {
        "execution": {
          "iopub.status.busy": "2022-05-28T10:10:14.624225Z",
          "iopub.execute_input": "2022-05-28T10:10:14.624731Z",
          "iopub.status.idle": "2022-05-28T10:10:14.631100Z",
          "shell.execute_reply.started": "2022-05-28T10:10:14.624681Z",
          "shell.execute_reply": "2022-05-28T10:10:14.630203Z"
        },
        "trusted": true,
        "id": "64b5CSn1MGEn"
      },
      "execution_count": null,
      "outputs": []
    },
    {
      "cell_type": "code",
      "source": [
        "img = cv2.imread(str(df_images['open palm'][0])) \n",
        "img.shape"
      ],
      "metadata": {
        "execution": {
          "iopub.status.busy": "2022-05-28T10:10:14.632433Z",
          "iopub.execute_input": "2022-05-28T10:10:14.632735Z",
          "iopub.status.idle": "2022-05-28T10:10:14.666861Z",
          "shell.execute_reply.started": "2022-05-28T10:10:14.632708Z",
          "shell.execute_reply": "2022-05-28T10:10:14.665917Z"
        },
        "trusted": true,
        "id": "gkJDZIaLMGEo"
      },
      "execution_count": null,
      "outputs": []
    },
    {
      "cell_type": "code",
      "source": [
        "X, y = [], [] \n",
        "for label, images in df_images.items():\n",
        "    for image in images:\n",
        "        img = cv2.imread(str(image))\n",
        "        resized_img = cv2.resize(img, (224, 224)) \n",
        "        X.append(resized_img) \n",
        "        y.append(df_labels[label])\n",
        "        \n",
        "X = np.array(X)\n",
        "X = X/255\n",
        "y = np.array(y)\n",
        "\n",
        "#spliting into test val & train\n",
        "X_train, X_test_val, y_train, y_test_val = train_test_split(X, y)\n",
        "X_test, X_val, y_test, y_val = train_test_split(X_test_val, y_test_val)"
      ],
      "metadata": {
        "execution": {
          "iopub.status.busy": "2022-05-28T10:10:14.668466Z",
          "iopub.execute_input": "2022-05-28T10:10:14.668822Z",
          "iopub.status.idle": "2022-05-28T10:10:26.398389Z",
          "shell.execute_reply.started": "2022-05-28T10:10:14.668790Z",
          "shell.execute_reply": "2022-05-28T10:10:26.397417Z"
        },
        "trusted": true,
        "id": "iMXvEMZhMGEo"
      },
      "execution_count": null,
      "outputs": []
    },
    {
      "cell_type": "code",
      "source": [
        "#define the keras model\n",
        "model = Sequential()\n",
        "model.add(Dense(12, input_dim=8, activation='relu'))\n",
        "model.add(Dense(8, activation='relu'))\n",
        "model.add(Dense(1, activation='sigmoid'))\n",
        "model.summary()"
      ],
      "metadata": {
        "execution": {
          "iopub.status.busy": "2022-05-28T10:10:26.399776Z",
          "iopub.execute_input": "2022-05-28T10:10:26.400239Z",
          "iopub.status.idle": "2022-05-28T10:10:28.580485Z",
          "shell.execute_reply.started": "2022-05-28T10:10:26.400196Z",
          "shell.execute_reply": "2022-05-28T10:10:28.579388Z"
        },
        "trusted": true,
        "id": "6L1npQc8MGEp"
      },
      "execution_count": null,
      "outputs": []
    },
    {
      "cell_type": "code",
      "source": [
        "# compile the keras model\n",
        "model.compile(loss='binary_crossentropy', optimizer='adam', metrics=['accuracy'])\n",
        "\n",
        "#fit the keras model on the dataset\n",
        "model.fit(X_train, y_train, epochs=10, batch_size=10)\n",
        "\n",
        "#evaluate the keras model\n",
        "_, accuracy = model.evaluate(X_test, y_test)\n",
        "print('Accuracy: %.2f' % (accuracy*100))"
      ],
      "metadata": {
        "execution": {
          "iopub.status.busy": "2022-05-28T10:10:28.609833Z",
          "iopub.execute_input": "2022-05-28T10:10:28.610223Z",
          "iopub.status.idle": "2022-05-28T10:10:28.665099Z",
          "shell.execute_reply.started": "2022-05-28T10:10:28.610189Z",
          "shell.execute_reply": "2022-05-28T10:10:28.664121Z"
        },
        "trusted": true,
        "id": "4bo6sIE0MGEq"
      },
      "execution_count": null,
      "outputs": []
    },
    {
      "cell_type": "code",
      "source": [
        "#show f1-score\n",
        "from sklearn.metrics import classification_report\n",
        "print(classification_report(y_test, y_pred_bool))"
      ],
      "metadata": {
        "execution": {
          "iopub.status.busy": "2022-05-28T10:14:20.181153Z",
          "iopub.execute_input": "2022-05-28T10:14:20.181952Z",
          "iopub.status.idle": "2022-05-28T10:14:20.197137Z",
          "shell.execute_reply.started": "2022-05-28T10:14:20.181913Z",
          "shell.execute_reply": "2022-05-28T10:14:20.196324Z"
        },
        "trusted": true,
        "id": "OLU9nrsCMGEr"
      },
      "execution_count": null,
      "outputs": []
    },
    {
      "cell_type": "code",
      "source": [
        "#plot model accuracy and loss\n",
        "fig, ax = plt.subplots(ncols=2, figsize=(20,5))\n",
        "#fig.suptitle('accuracy and loss')\n",
        "ax[0].set_title('model accuracy')\n",
        "ax[1].set_title('model loss')\n",
        "\n",
        "ax[0].grid()\n",
        "ax[0].set_xlabel('epoch')\n",
        "ax[0].set_ylabel('acc')\n",
        "ax[0].plot(history.history['acc'], marker='8',color='red')\n",
        "ax[0].plot(history.history['val_acc'], marker='8',color='green')\n",
        "ax[0].legend(['train', 'val'])\n",
        "\n",
        "ax[1].grid()\n",
        "ax[1].set_xlabel('epoch')\n",
        "ax[1].set_ylabel('loss')\n",
        "ax[1].plot(history.history['loss'], marker='8',color='red')\n",
        "ax[1].plot(history.history['val_loss'], marker='8',color='green')\n",
        "ax[1].legend(['train', 'val'])\n",
        "\n",
        "plt.show()"
      ],
      "metadata": {
        "execution": {
          "iopub.status.busy": "2022-05-28T10:14:20.200489Z",
          "iopub.execute_input": "2022-05-28T10:14:20.200968Z",
          "iopub.status.idle": "2022-05-28T10:14:20.563177Z",
          "shell.execute_reply.started": "2022-05-28T10:14:20.200920Z",
          "shell.execute_reply": "2022-05-28T10:14:20.562038Z"
        },
        "trusted": true,
        "id": "taGP7w57MGEs"
      },
      "execution_count": null,
      "outputs": []
    },
    {
      "cell_type": "code",
      "source": [
        "#confusion matrix\n",
        "from sklearn.metrics import confusion_matrix\n",
        "cm = confusion_matrix(y_test, y_pred_bool)\n",
        "\n",
        "plt.figure(figsize=(15,15))\n",
        "\n",
        "ax = sns.heatmap(cm/np.sum(cm),fmt='.2%', annot=True, cmap='vlag')\n",
        "\n",
        "ax.set_title('confusion matrix\\n');\n",
        "ax.set_xlabel('\\nPredicted Values')\n",
        "ax.set_ylabel('Actual Values ');\n",
        "\n",
        "ax.xaxis.set_ticklabels(df_labels)\n",
        "ax.yaxis.set_ticklabels(df_labels)\n",
        "\n",
        "plt.show()"
      ],
      "metadata": {
        "execution": {
          "iopub.status.busy": "2022-05-28T10:14:20.564880Z",
          "iopub.execute_input": "2022-05-28T10:14:20.565590Z",
          "iopub.status.idle": "2022-05-28T10:14:21.176934Z",
          "shell.execute_reply.started": "2022-05-28T10:14:20.565540Z",
          "shell.execute_reply": "2022-05-28T10:14:21.175930Z"
        },
        "trusted": true,
        "id": "64lIs0qPMGEs"
      },
      "execution_count": null,
      "outputs": []
    }
  ]
}